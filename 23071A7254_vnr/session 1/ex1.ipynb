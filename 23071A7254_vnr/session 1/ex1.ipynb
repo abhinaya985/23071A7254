{
 "cells": [
  {
   "cell_type": "code",
   "execution_count": 12,
   "id": "a9c4858b-4d95-4f82-bf50-84f2a281a768",
   "metadata": {},
   "outputs": [
    {
     "data": {
      "text/plain": [
       "True"
      ]
     },
     "execution_count": 12,
     "metadata": {},
     "output_type": "execute_result"
    }
   ],
   "source": [
    "# 1)Write a Python program to check if a number is prime\n",
    "def is_prime(n):\n",
    "    if n<2: \n",
    "        return False\n",
    "    for i in range(2,int(n**0.5)+1):\n",
    "        if n%i==0: \n",
    "            return False\n",
    "    return True\n",
    "is_prime(97)"
   ]
  },
  {
   "cell_type": "code",
   "execution_count": 13,
   "id": "64e32293-833a-4b16-ba16-f44e9882cdd7",
   "metadata": {},
   "outputs": [
    {
     "data": {
      "text/plain": [
       "[0, 1, 1, 2, 3, 5, 8, 13, 21, 34, 55, 89, 144, 233, 377]"
      ]
     },
     "execution_count": 13,
     "metadata": {},
     "output_type": "execute_result"
    }
   ],
   "source": [
    "# 2)Create a Fibonacci sequence generator using recursion\n",
    "def fib(n):\n",
    "    if n<=0: \n",
    "        return []\n",
    "    if n==1: \n",
    "        return [0]\n",
    "    if n==2: \n",
    "        return [0, 1]\n",
    "    seq=fib(n-1)\n",
    "    seq.append(seq[-1]+seq[-2])\n",
    "    return seq\n",
    "fib(15)"
   ]
  },
  {
   "cell_type": "code",
   "execution_count": 14,
   "id": "3560f55f-143d-4a52-9173-5b50a90205f8",
   "metadata": {},
   "outputs": [
    {
     "data": {
      "text/plain": [
       "(10, 20)"
      ]
     },
     "execution_count": 14,
     "metadata": {},
     "output_type": "execute_result"
    }
   ],
   "source": [
    "# 3)Write a function to find the Greatest Common Divisor (GCD) and Least Common Multiple (LCM) of two numbers\n",
    "def gcd_lcm(a,b):\n",
    "    def gcd(x,y):\n",
    "        while y: \n",
    "            x,y=y,x%y\n",
    "        return x\n",
    "    gcd_val=gcd(a,b)\n",
    "    return gcd_val,(a*b)//gcd_val\n",
    "gcd_lcm(10,20)"
   ]
  },
  {
   "cell_type": "code",
   "execution_count": 17,
   "id": "6efc917e-69b4-4d83-a9f0-4b6705f30661",
   "metadata": {},
   "outputs": [
    {
     "data": {
      "text/plain": [
       "20"
      ]
     },
     "execution_count": 17,
     "metadata": {},
     "output_type": "execute_result"
    }
   ],
   "source": [
    "# 4)Build a simple calculator using functions\n",
    "def calci(a,b,op):\n",
    "    if op=='+': \n",
    "        return a+b\n",
    "    if op=='-': \n",
    "        return a-b\n",
    "    if op=='*': \n",
    "        return a*b\n",
    "    if op=='/': \n",
    "        return a/b if b!=0 else \"Cannot divide by zero\"\n",
    "calci(5,4,\"*\")"
   ]
  },
  {
   "cell_type": "code",
   "execution_count": 18,
   "id": "944b39d4-c72f-4230-a82c-e3a0f9646a17",
   "metadata": {},
   "outputs": [
    {
     "data": {
      "text/plain": [
       "[1, 2, 3, 4, 5]"
      ]
     },
     "execution_count": 18,
     "metadata": {},
     "output_type": "execute_result"
    }
   ],
   "source": [
    "# 5)Implement a program that takes a list and removes duplicates\n",
    "def remove_duplicates(li):\n",
    "    return list(set(li))\n",
    "li=[1,2,2,3,4,5,5]\n",
    "remove_duplicates(li)"
   ]
  },
  {
   "cell_type": "code",
   "execution_count": 19,
   "id": "a8161348-ea5b-4839-bb20-3c8636019ae9",
   "metadata": {},
   "outputs": [
    {
     "name": "stdout",
     "output_type": "stream",
     "text": [
      "a : 1\n",
      "b : 2\n",
      "c : 3\n",
      "d : 4\n",
      "e : 5\n"
     ]
    }
   ],
   "source": [
    "# 6)Create a dictionary, add five key-value pairs, and print them\n",
    "def create_dict():\n",
    "    d={\"a\":1,\"b\":2,\"c\":3,\"d\":4,\"e\":5}\n",
    "    for k,v in d.items():\n",
    "        print(k,\":\",v)\n",
    "create_dict()"
   ]
  },
  {
   "cell_type": "code",
   "execution_count": 22,
   "id": "bf1554e9-499e-4046-a81d-c17fba4cf369",
   "metadata": {},
   "outputs": [
    {
     "data": {
      "text/plain": [
       "(array([[ 6,  8],\n",
       "        [10, 12]]),\n",
       " array([[-4, -4],\n",
       "        [-4, -4]]),\n",
       " array([[ 5, 12],\n",
       "        [21, 32]]),\n",
       " array([[19, 22],\n",
       "        [43, 50]]))"
      ]
     },
     "execution_count": 22,
     "metadata": {},
     "output_type": "execute_result"
    }
   ],
   "source": [
    "# 7)Use NumPy to perform basic matrix operations\n",
    "import numpy as np\n",
    "def matrix_op():\n",
    "    A=np.array([[1,2],[3,4]])\n",
    "    B=np.array([[5,6],[7,8]])\n",
    "    return np.add(A,B),np.subtract(A,B),np.multiply(A,B),np.dot(A,B)\n",
    "matrix_op()"
   ]
  },
  {
   "cell_type": "code",
   "execution_count": 8,
   "id": "b326e409-0e1a-4933-b7a5-12d4d107dafd",
   "metadata": {},
   "outputs": [],
   "source": [
    "# 8)Read a CSV file using pandas and display the first 5 rows\n",
    "import pandas as pd\n",
    "def read_csv():\n",
    "    df=pd.read_csv(\"file_name.csv\")\n",
    "    return df.head()"
   ]
  },
  {
   "cell_type": "code",
   "execution_count": 20,
   "id": "6a3a16ac-e903-4273-a3bf-acfb1a5b79d3",
   "metadata": {},
   "outputs": [
    {
     "data": {
      "text/plain": [
       "('this', 2)"
      ]
     },
     "execution_count": 20,
     "metadata": {},
     "output_type": "execute_result"
    }
   ],
   "source": [
    "# 9)Write a function that finds the most common word in a given text\n",
    "from collections import Counter\n",
    "def most_common_word(text):\n",
    "    words=text.split()\n",
    "    return Counter(words).most_common(1)[0]\n",
    "most_common_word(\"this this is a file\")"
   ]
  },
  {
   "cell_type": "code",
   "execution_count": 21,
   "id": "e0d9c56d-7899-4209-bb5d-410545f74cea",
   "metadata": {},
   "outputs": [
    {
     "data": {
      "text/plain": [
       "'<C\"c}M:*-FLm'"
      ]
     },
     "execution_count": 21,
     "metadata": {},
     "output_type": "execute_result"
    }
   ],
   "source": [
    "# 10)Create a function that generates a random password with a mix of uppercase, lowercase, digits, and special characters\n",
    "import random\n",
    "import string\n",
    "def generate_password(length=12):\n",
    "    characters=string.ascii_letters+string.digits+string.punctuation\n",
    "    return ''.join(random.choice(characters) for i in range(length))\n",
    "generate_password()"
   ]
  },
  {
   "cell_type": "code",
   "execution_count": null,
   "id": "c9fddb6a-a066-40c9-a177-6f1de7d65df1",
   "metadata": {},
   "outputs": [],
   "source": []
  }
 ],
 "metadata": {
  "kernelspec": {
   "display_name": "Python 3 (ipykernel)",
   "language": "python",
   "name": "python3"
  },
  "language_info": {
   "codemirror_mode": {
    "name": "ipython",
    "version": 3
   },
   "file_extension": ".py",
   "mimetype": "text/x-python",
   "name": "python",
   "nbconvert_exporter": "python",
   "pygments_lexer": "ipython3",
   "version": "3.13.1"
  }
 },
 "nbformat": 4,
 "nbformat_minor": 5
}
